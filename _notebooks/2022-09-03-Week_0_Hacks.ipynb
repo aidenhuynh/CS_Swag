{
 "cells": [
  {
   "cell_type": "markdown",
   "metadata": {},
   "source": [
    "# Week 0 Hacks - Tools and Setup\n",
    "\n",
    "<ul>\n",
    "    <li><a href=\"github.com/aidenhuynh/CS_Swag/\">My GitHub</a></li>\n",
    "    <li><a href=\"aidenhuynh.github.io/CS_Swag/\">FastPages Blog</a></li>\n",
    "    <li>My First Markdown/HTML Post</li>\n",
    "    <li>My First Jupyter Post</li>\n",
    "    <li><a href=\"https://i.ibb.co/GvBNv2P/Proof-of-VSCode.png\">Proof of IDE (VSCode)</a></li>\n",
    "    <img src=\"https://i.ibb.co/GvBNv2P/Proof-of-VSCode.png\" height=\"540\" width=\"960\">\n",
    "    <li><a href=\"https://github.com/aidenhuynh/CS_Swag/graphs/commit-activity\">My Insights</a></li>\n",
    "    <img src=\"https://i.ibb.co/CBnL1QW/Screen-Shot-2022-09-03-at-4-05-55-PM.png\">\n",
    "</ul>"
   ]
  }
 ],
 "metadata": {
  "kernelspec": {
   "display_name": "Python 3.8.9 64-bit",
   "language": "python",
   "name": "python3"
  },
  "language_info": {
   "name": "python",
   "version": "3.8.9"
  },
  "orig_nbformat": 4,
  "vscode": {
   "interpreter": {
    "hash": "31f2aee4e71d21fbe5cf8b01ff0e069b9275f58929596ceb00d14d90e3e16cd6"
   }
  }
 },
 "nbformat": 4,
 "nbformat_minor": 2
}
