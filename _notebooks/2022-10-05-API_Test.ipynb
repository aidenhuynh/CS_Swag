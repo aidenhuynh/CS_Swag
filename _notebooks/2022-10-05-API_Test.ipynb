{
 "cells": [
  {
   "cell_type": "markdown",
   "metadata": {},
   "source": [
    "# \"Week 7 - API Testing\"\n",
    "> \"Basic YouTube Downloader\"\n",
    "\n",
    "- toc: true\n",
    "- branch: master\n",
    "- badges: true\n",
    "- comments: true\n",
    "- categories: [jupyter,markdown]\n"
   ]
  },
  {
   "cell_type": "markdown",
   "metadata": {},
   "source": [
    "I will add frontend to make this useable on the blog for everyone rather than just in this notebook later."
   ]
  },
  {
   "cell_type": "code",
   "execution_count": 41,
   "metadata": {
    "vscode": {
     "languageId": "python"
    }
   },
   "outputs": [
    {
     "name": "stdout",
     "output_type": "stream",
     "text": [
      "\u001b[91mYouTube Video Downloader with APIs: \n",
      "\u001b[0m\n",
      "\u001b[91mEnter a valid YouTube Video URL or ID:\u001b[0m\n",
      "Aiden: https://www.youtube.com/watch?v=TApmI8YtYhc\n",
      "\u001b[91m\n",
      "Available qualities:\u001b[0m\n",
      "144p\n",
      "360p\n",
      "720p\n",
      "Note: 144p is \u001b[91mAUDIO-ONLY\u001b[0m\n",
      "\u001b[91m\n",
      "Enter chosen quality (from the list):\u001b[0m\n",
      "Aiden: \n",
      "\u001b[91m\n",
      "The selected resolution is not available, please try again.\u001b[0m\n",
      "\u001b[91m\n",
      "Available qualities:\u001b[0m\n",
      "144p\n",
      "360p\n",
      "720p\n",
      "Note: 144p is \u001b[91mAUDIO-ONLY\u001b[0m\n",
      "\u001b[91m\n",
      "Enter chosen quality (from the list):\u001b[0m\n",
      "Aiden: 720p\n",
      "\u001b[91m\n",
      "Download link:\n",
      "https://rr5---sn-4g5edns6.googlevideo.com/videoplayback?expire=1665633762&ei=gjlHY9jRAZqy1wK45qGADQ&ip=23.88.39.196&id=o-AFKqeirNm7pBz-qtDw5uSZ_D3elyevEQf-n9Y6w3bR8Z&itag=22&source=youtube&requiressl=yes&mh=KX&mm=31%2C29&mn=sn-4g5edns6%2Csn-4g5lznez&ms=au%2Crdu&mv=m&mvi=5&pl=26&initcwndbps=282500&vprv=1&svpuc=1&mime=video%2Fmp4&cnr=14&ratebypass=yes&dur=3.134&lmt=1630135775777054&mt=1665611831&fvip=3&fexp=24001373%2C24007246&c=ANDROID&txp=5311224&sparams=expire%2Cei%2Cip%2Cid%2Citag%2Csource%2Crequiressl%2Cvprv%2Csvpuc%2Cmime%2Ccnr%2Cratebypass%2Cdur%2Clmt&sig=AOq0QJ8wRQIgYCqH0FduYsIW4JcOIHh5xZ2r0KWTxifgEXKIWCSoUF4CIQDTRUhB15r0QljszhXWoY7-EcvgO8ejS72TmIvw8_dPkA%3D%3D&lsparams=mh%2Cmm%2Cmn%2Cms%2Cmv%2Cmvi%2Cpl%2Cinitcwndbps&lsig=AG3C_xAwRAIgKFiwJ7fK4qGudS8wcyOjcGxbSR1z4qxmBuROzt83OfgCIBc-Yn0sbcrF0uzKoLLreDgflqrsmbIQsu9U6_RgDMvh\u001b[0m\n",
      "\n",
      "To download, click on the three dots in the bottom-right then press download.\n"
     ]
    }
   ],
   "source": [
    "import json, requests, getpass, sys\n",
    "\n",
    "class color:\n",
    "    BOLD = '\\033[91m'\n",
    "    UNDERLINE = '\\033[91m'\n",
    "    END = '\\033[0m'\n",
    "# This doesn't really work except make things red, don't know why\n",
    "\n",
    "print(color.BOLD + \"YouTube Video Downloader with APIs: \\n\" + color.END)\n",
    "\n",
    "apiFound = False\n",
    "\n",
    "while apiFound == False:\n",
    "    \n",
    "    print(color.UNDERLINE + \"Enter a valid YouTube Video URL or ID:\" + color.END)\n",
    "    videoURL = input(\"Enter a valid YouTube Video URL or ID:\")\n",
    "    videoID = videoURL[-11:]\n",
    "\n",
    "    print(getpass.getuser() + \": \" + videoURL)\n",
    "    \n",
    "    url = \"https://ytstream-download-youtube-videos.p.rapidapi.com/dl\"\n",
    "\n",
    "    querystring = {\"id\":videoID}\n",
    "\n",
    "    headers = {\n",
    "        \"X-RapidAPI-Key\": \"e51c67fa22mshec43200baacf5b3p148027jsn10e3e84c629e\",\n",
    "        \"X-RapidAPI-Host\": \"ytstream-download-youtube-videos.p.rapidapi.com\"\n",
    "    }\n",
    "\n",
    "    response = requests.request(\"GET\", url, headers=headers, params=querystring)\n",
    "\n",
    "    json = response.json()\n",
    "\n",
    "    if json['status'] == \"fail\":\n",
    "        print(color.BOLD + \"\\nYou have inputted an invalid YouTube ID, please try again.\\n\" + color.END)\n",
    "    else:\n",
    "        apiFound = True\n",
    "    \n",
    "formatList = json.get('formats')\n",
    "\n",
    "qualityFound = False\n",
    "\n",
    "while qualityFound == False:    \n",
    "    print(color.UNDERLINE + \"\\nAvailable qualities:\" + color.END)\n",
    "    \n",
    "    i = 2\n",
    "\n",
    "    while i >= 0:\n",
    "        print(formatList[i]['qualityLabel'])\n",
    "        i -= 1\n",
    "        \n",
    "    print(\"Note: 144p is \" + color.BOLD + \"AUDIO-ONLY\" + color.END)\n",
    "    \n",
    "    print(color.UNDERLINE + \"\\nEnter chosen quality (from the list):\" + color.END)\n",
    "    chosenQuality = input(\"Enter chosen quality (from the list)\")\n",
    "    print(getpass.getuser() + \": \" + chosenQuality)\n",
    "    chosenQuality.lower()\n",
    "\n",
    "    downloadURL = 0\n",
    "\n",
    "    if chosenQuality == formatList[0]['qualityLabel']:\n",
    "        downloadURL = 0\n",
    "        qualityFound = True\n",
    "        \n",
    "    elif chosenQuality == formatList[1]['qualityLabel']:\n",
    "        downloadURL = 1\n",
    "        qualityFound = True\n",
    "        \n",
    "    elif chosenQuality == formatList[2]['qualityLabel']:\n",
    "        downloadURL = 2\n",
    "        qualityFound = True\n",
    "        \n",
    "    else:\n",
    "        print(color.BOLD + \"\\nThe selected resolution is not available, please try again.\" + color.END)\n",
    "        \n",
    "print(color.UNDERLINE + \"\\nDownload link:\\n\" +formatList[downloadURL]['url'] + color.END + \"\\n\\nTo download, click on the three dots in the bottom-right then press download.\")"
   ]
  }
 ],
 "metadata": {
  "kernelspec": {
   "display_name": "JavaScript (Node.js)",
   "language": "javascript",
   "name": "javascript"
  },
  "language_info": {
   "file_extension": ".js",
   "mimetype": "application/javascript",
   "name": "javascript",
   "version": "10.13.0"
  },
  "orig_nbformat": 4
 },
 "nbformat": 4,
 "nbformat_minor": 2
}
