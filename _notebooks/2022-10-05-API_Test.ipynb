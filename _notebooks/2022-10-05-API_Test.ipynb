{
 "cells": [
  {
   "cell_type": "markdown",
   "metadata": {},
   "source": [
    "# \"Week 7 - API\"\n",
    "> \"YouTube Video Downloader Using an API\"\n",
    "\n",
    "- toc: true\n",
    "- branch: master\n",
    "- badges: true\n",
    "- comments: true\n",
    "- categories: [jupyter,markdown]\n"
   ]
  },
  {
   "cell_type": "markdown",
   "metadata": {},
   "source": [
    "I will add frontend to make this useable on the blog for everyone rather than just in this notebook later."
   ]
  },
  {
   "cell_type": "code",
   "execution_count": 20,
   "metadata": {},
   "outputs": [
    {
     "name": "stdout",
     "output_type": "stream",
     "text": [
      "\u001b[91mYouTube Video Downloader with APIs: \n",
      "\u001b[0m\n",
      "\u001b[91mEnter a valid YouTube Video ID:\u001b[0m\n",
      "Aiden: TApmI8YtYhc\n",
      "\u001b[91m\n",
      "Available qualities:\u001b[0m\n",
      "720p\n",
      "360p\n",
      "144p\n",
      "Note: 144p is \u001b[91mAUDIO-ONLY\u001b[0m\n",
      "\u001b[91m\n",
      "Enter chosen quality (from the list):\u001b[0m\n",
      "Aiden: 4k ultra hd\n",
      "\u001b[91m\n",
      "The selected resolution is not available, please try again.\u001b[0m\n",
      "\u001b[91m\n",
      "Enter chosen quality (from the list):\u001b[0m\n",
      "Aiden: 720p\n",
      "\u001b[91m\n",
      "Download link:\n",
      "https://rr3---sn-4g5lznez.googlevideo.com/videoplayback?expire=1665374797&ei=7UVDY7P_Bo-T1gLuiLy4Dg&ip=23.88.39.196&id=o-AAHQmwaxxRgUBXQH0uOezx-ag-u6OG1dq615Oo2FD5ig&itag=22&source=youtube&requiressl=yes&mh=KX&mm=31%2C29&mn=sn-4g5lznez%2Csn-4g5edns6&ms=au%2Crdu&mv=m&mvi=3&pl=26&initcwndbps=401250&vprv=1&svpuc=1&mime=video%2Fmp4&cnr=14&ratebypass=yes&dur=3.134&lmt=1630135775777054&mt=1665352888&fvip=5&fexp=24001373%2C24007246&c=ANDROID&txp=5311224&sparams=expire%2Cei%2Cip%2Cid%2Citag%2Csource%2Crequiressl%2Cvprv%2Csvpuc%2Cmime%2Ccnr%2Cratebypass%2Cdur%2Clmt&sig=AOq0QJ8wRgIhALg1O7d8qs3R3RJ7WkDqGm2yCmgRJhge3MWPaxE205tkAiEA-lu3ddWwQlbxRRp_VS1Yar9hRGQ6yRnql5dcYi-F74E%3D&lsparams=mh%2Cmm%2Cmn%2Cms%2Cmv%2Cmvi%2Cpl%2Cinitcwndbps&lsig=AG3C_xAwRAIgL6vhLCIuGY5tZHypXuCRqTTzWo8mWlX9Q0EIEycj3xgCIGmQeeWYQDgw1kfUwejdC3lAre1titKcxwe1qz19cxJz\u001b[0m\n"
     ]
    }
   ],
   "source": [
    "import json, requests, getpass, sys\n",
    "\n",
    "class color:\n",
    "    BOLD = '\\033[91m'\n",
    "    UNDERLINE = '\\033[91m'\n",
    "    END = '\\033[0m'\n",
    "# This doesn't really work except make things red, don't know why\n",
    "\n",
    "print(color.BOLD + \"YouTube Video Downloader with APIs: \\n\" + color.END)\n",
    "\n",
    "apiFound = False\n",
    "\n",
    "while apiFound == False:\n",
    "    \n",
    "    print(color.UNDERLINE + \"Enter a valid YouTube Video ID:\" + color.END)\n",
    "    poggers = input(\"Enter a valid YouTube Video ID:\")\n",
    "    # I plan to make it so you can input just full links then automatically get the ID from that\n",
    "    print(getpass.getuser() + \": \" + poggers)\n",
    "    \n",
    "    url = \"https://ytstream-download-youtube-videos.p.rapidapi.com/dl\"\n",
    "\n",
    "    querystring = {\"id\":poggers}\n",
    "\n",
    "    headers = {\n",
    "        \"X-RapidAPI-Key\": \"e51c67fa22mshec43200baacf5b3p148027jsn10e3e84c629e\",\n",
    "        \"X-RapidAPI-Host\": \"ytstream-download-youtube-videos.p.rapidapi.com\"\n",
    "    }\n",
    "\n",
    "    response = requests.request(\"GET\", url, headers=headers, params=querystring)\n",
    "\n",
    "    json = response.json()\n",
    "\n",
    "    if json['status'] == \"fail\":\n",
    "        print(\"You have inputted an invalid YouTube ID, please try again.\")\n",
    "    else:\n",
    "        apiFound = True\n",
    "    \n",
    "formatList = json.get('formats')\n",
    "\n",
    "i = 2\n",
    "\n",
    "print(color.UNDERLINE + \"\\nAvailable qualities:\" + color.END)\n",
    "\n",
    "while i >= 0:\n",
    "    print(formatList[i]['qualityLabel'])\n",
    "    i -= 1\n",
    "    \n",
    "print(\"Note: 144p is \" +color.BOLD + \"AUDIO-ONLY\" + color.END)\n",
    "\n",
    "qualityFound = False\n",
    "\n",
    "while qualityFound == False:    \n",
    "    print(color.UNDERLINE + \"\\nEnter chosen quality (from the list):\" + color.END)\n",
    "    chosenQuality = input(\"Enter chosen quality (from the list)\")\n",
    "    print(getpass.getuser() + \": \" + chosenQuality)\n",
    "    chosenQuality.lower()\n",
    "\n",
    "    downloadURL = 0\n",
    "\n",
    "    if chosenQuality == formatList[0]['qualityLabel']:\n",
    "        downloadURL = 0\n",
    "        qualityFound = True\n",
    "        \n",
    "    elif chosenQuality == formatList[1]['qualityLabel']:\n",
    "        downloadURL = 1\n",
    "        qualityFound = True\n",
    "        \n",
    "    elif chosenQuality == formatList[2]['qualityLabel']:\n",
    "        downloadURL = 2\n",
    "        qualityFound = True\n",
    "        \n",
    "    else:\n",
    "        print(color.BOLD + \"\\nThe selected resolution is not available, please try again.\" + color.END)\n",
    "        \n",
    "print(color.UNDERLINE + \"\\nDownload link:\\n\" +formatList[downloadURL]['url'] + color.END)\n",
    "\n"
   ]
  }
 ],
 "metadata": {
  "kernelspec": {
   "display_name": "Python 2.7.18 64-bit",
   "language": "python",
   "name": "python3"
  },
  "language_info": {
   "file_extension": ".js",
   "mimetype": "application/javascript",
   "name": "python",
   "version": "2.7.18"
  },
  "orig_nbformat": 4,
  "vscode": {
   "interpreter": {
    "hash": "949777d72b0d2535278d3dc13498b2535136f6dfe0678499012e853ee9abcab1"
   }
  }
 },
 "nbformat": 4,
 "nbformat_minor": 2
}
