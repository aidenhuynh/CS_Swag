{
 "cells": [
  {
   "cell_type": "markdown",
   "metadata": {},
   "source": [
    "# \"Week 5 - Program Purpose Hacks\"\n",
    "> \"Hacks for Big Idea 1: Program Purpose\"\n",
    "\n",
    "- toc: true\n",
    "- branch: master\n",
    "- badges: true\n",
    "- comments: true\n",
    "- categories: [jupyter,markdown]\n"
   ]
  },
  {
   "cell_type": "markdown",
   "metadata": {},
   "source": [
    "{% include submenu.html %}\n",
    "\n",
    "### Questions:\n",
    "* Do we have final project ideas for a PBL Web Project?\n",
    "    - We are thinking of making a website that contains multiple different games, something like coolmathgames.com\n",
    "    - Each person will be making their own game, and we will assist each other along the way\n",
    "* Are we considering a project that is best for our educational purpose?\n",
    "    - In working primarily by ourselves on our own games, we will be more susceptible to running into problems, thus allowing for more learning opportunities\n",
    "* Is the project going to hold team members interest for 8 weeks?\n",
    "    - We like games, we like to code -> coding + games = mega cool!\n",
    "* Does the project have potential for someone to use it beyond the 8 weeks? ie Customer or Sponsor needed?\n",
    "    - People don't really <i>need</i> games but it might be fun to revisit now and then\n",
    "* Does the project have potential to be used for Create Performance Task submission?\n",
    "    - My game will be Tetris, which has potential for Create Performance Task submission as it uses data abstraction in the lists of possible tetricles"
   ]
  }
 ],
 "metadata": {
  "kernelspec": {
   "display_name": "JavaScript (Node.js)",
   "language": "javascript",
   "name": "javascript"
  },
  "language_info": {
   "name": "javascript",
   "version": "3.9.6"
  },
  "orig_nbformat": 4,
  "vscode": {
   "interpreter": {
    "hash": "31f2aee4e71d21fbe5cf8b01ff0e069b9275f58929596ceb00d14d90e3e16cd6"
   }
  }
 },
 "nbformat": 4,
 "nbformat_minor": 2
}
