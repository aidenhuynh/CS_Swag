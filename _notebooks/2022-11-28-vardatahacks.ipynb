{
 "cells": [
  {
   "cell_type": "markdown",
   "metadata": {},
   "source": [
    "# \"Week 14 - Variables, Assignments, and Data Abstractions Hacks\"\n",
    "> \"A python quiz using stuff from 3.1 and 3.2\"\n",
    "\n",
    "- toc: true\n",
    "- branch: master\n",
    "- badges: true\n",
    "- comments: true\n",
    "- categories: [jupyter,markdown]"
   ]
  },
  {
   "cell_type": "code",
   "execution_count": 4,
   "metadata": {},
   "outputs": [
    {
     "name": "stdout",
     "output_type": "stream",
     "text": [
      "Question: What language was this coded in?\n",
      "python is correct!\n",
      "\n",
      "Question: Sussy\n",
      "AMOGUS is incorrect!\n",
      "\n",
      "Question: What letter comes after A in the alphabet?\n",
      "b is correct!\n",
      "\n",
      "Question: What is 3+4?\n",
      "7 is correct!\n",
      "\n",
      "Question: What is my least favorite class?\n",
      "CSP is correct!\n",
      "\n",
      "Question: aAAAAAaaaaaAaAaaAaaAAaaAAaaAaAaaa\n",
      "AAAHHHH is incorrect!\n",
      "\n",
      "Question: I quit\n",
      "me too is incorrect!\n",
      "\n",
      "You scored 4/7\n",
      "That's 57.14 %!\n",
      "Skill issue?\n"
     ]
    }
   ],
   "source": [
    "def qAndRsp(prompt):\n",
    "    print(\"Question: \" + prompt)\n",
    "    msg = input(prompt)\n",
    "    return msg\n",
    "\n",
    "questionsList = [\n",
    "    [\"What language was this coded in?\", \"python\"],\n",
    "    [\"Sussy\", \"among us\"],\n",
    "    [\"What letter comes after A in the alphabet?\",\"b\"],\n",
    "    [\"What is 3+4?\",\"7\"],\n",
    "    [\"What is my least favorite class?\",\"csp\"],\n",
    "    [\"aAAAAAaaaaaAaAaaAaaAAaaAAaaAaAaaa\", \"\"],\n",
    "    [\"I quit\", \"ok\"],\n",
    "]\n",
    "\n",
    "correct = 0\n",
    "questions = len(questionsList)\n",
    "\n",
    "for QAPair in questionsList:\n",
    "\n",
    "    question = QAPair[0]\n",
    "    answer = QAPair[1]\n",
    "\n",
    "    rsp = qAndRsp(question)\n",
    "    rspLower = rsp.lower()\n",
    "    \n",
    "    if rspLower == answer:\n",
    "        print(rsp + \" is correct!\")\n",
    "        correct += 1\n",
    "    else:\n",
    "        print(rsp + \" is incorrect!\")\n",
    "        \n",
    "    print(\"\")\n",
    "\n",
    "quotient=correct/questions\n",
    "percentage=round((quotient * 100), 2)\n",
    "\n",
    "print(\"You scored \" + str(correct) +\"/\" + str(questions))\n",
    "print(\"That's\", percentage,\"%!\")\n",
    "\n",
    "percentList = [\n",
    "    [100,\"Perfect!\"],\n",
    "    [90,\"Great!\"],\n",
    "    [80,\"Nice!\"],\n",
    "    [70,\"Could be better\"],\n",
    "    [60,\"Needs improvement\"],\n",
    "]\n",
    "\n",
    "for numbersPair in percentList:\n",
    "    \n",
    "    numbers = numbersPair[0]\n",
    "    note = numbersPair[1]\n",
    "    \n",
    "    if numbers + 10 > percentage >= numbers:\n",
    "        print(note)    \n",
    "\n",
    "if 60 > percentage > 0:\n",
    "    print(\"Skill issue?\")\n",
    "elif percentage ==0:\n",
    "    print(\"Very cool!!\")"
   ]
  }
 ],
 "metadata": {
  "kernelspec": {
   "display_name": "Python 3.9.12 ('base')",
   "language": "python",
   "name": "python3"
  },
  "language_info": {
   "codemirror_mode": {
    "name": "ipython",
    "version": 3
   },
   "file_extension": ".py",
   "mimetype": "text/x-python",
   "name": "python",
   "nbconvert_exporter": "python",
   "pygments_lexer": "ipython3",
   "version": "3.9.12"
  },
  "orig_nbformat": 4,
  "vscode": {
   "interpreter": {
    "hash": "ffc1763adbe1425c55f4d4f6bbc7c5400773fec8c10f143e4ec62144ce703445"
   }
  }
 },
 "nbformat": 4,
 "nbformat_minor": 2
}
