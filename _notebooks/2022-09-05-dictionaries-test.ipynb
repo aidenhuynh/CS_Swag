{
 "cells": [
  {
   "cell_type": "markdown",
   "metadata": {},
   "source": [
    "# \"Loops, Dictionaries, and Lists\"\n",
    "> \"Testing out different loops in combination with lists and dictionaries\"\n",
    "\n",
    "- toc: true\n",
    "- branch: master\n",
    "- badges: true\n",
    "- comments: true\n",
    "- categories: [jupyter,markdown]"
   ]
  },
  {
   "cell_type": "markdown",
   "metadata": {},
   "source": [
    "## For Loop Test"
   ]
  },
  {
   "cell_type": "code",
   "execution_count": 26,
   "metadata": {},
   "outputs": [
    {
     "name": "stdout",
     "output_type": "stream",
     "text": [
      "For loop output\n",
      "\n",
      "Aiden Huynh\n",
      "\t Residence: Escondido\n",
      "\t Birth Day: May 12\n",
      "\t Hobbies: Gaming, Video Editing\n",
      "\n",
      "Avinh Huynh\n",
      "\t Residence: Escondido\n",
      "\t Birth Day: December 27\n",
      "\t Hobbies: Gaming, Streaming\n",
      "\n"
     ]
    }
   ],
   "source": [
    "mylist = []\n",
    "# Data structure with keys and values\n",
    "\n",
    "# Append to list a Dictionary of key/values related to a person and their hobbies\n",
    "mylist.append({\n",
    "    \"FirstName\": \"Aiden\",\n",
    "    \"LastName\": \"Huynh\",\n",
    "    \"DOB\": \"May 12\",\n",
    "    \"Residence\": \"Escondido\",\n",
    "    \"Email\": \"ah5993909@gmail.com\",\n",
    "    \"Hobbies\": [\"Gaming\", \"Video Editing\"]\n",
    "})\n",
    "\n",
    "# Append a 2nd dictionary\n",
    "mylist.append({\n",
    "    \"FirstName\": \"Avinh\",\n",
    "    \"LastName\": \"Huynh\",\n",
    "    \"DOB\": \"December 27\",\n",
    "    \"Residence\": \"Escondido\",\n",
    "    \"Email\": \"avinhahuynh@gmail.com\",\n",
    "    \"Hobbies\": [\"Gaming\", \"Streaming\"]\n",
    "})\n",
    "\n",
    "# Prints all of the dictionary values\n",
    "def print_data(d_rec):\n",
    "    print(d_rec[\"FirstName\"], d_rec[\"LastName\"]) # comma adds space between two values\n",
    "    print(\"\\t\", \"Residence:\", d_rec[\"Residence\"]) # \\t adds an indent\n",
    "    print(\"\\t\", \"Birth Day:\", d_rec[\"DOB\"])\n",
    "    print(\"\\t\", \"Hobbies: \", end=\"\")\n",
    "    print(\", \".join(d_rec[\"Hobbies\"]))\n",
    "    print()\n",
    "\n",
    "# Loop algorithm\n",
    "def for_loop():\n",
    "    print(\"For loop output\\n\")\n",
    "    for record in mylist:\n",
    "        print_data(record)\n",
    "        \n",
    "for_loop()"
   ]
  },
  {
   "cell_type": "markdown",
   "metadata": {},
   "source": [
    "## While Loop Test"
   ]
  },
  {
   "cell_type": "code",
   "execution_count": 27,
   "metadata": {},
   "outputs": [
    {
     "name": "stdout",
     "output_type": "stream",
     "text": [
      "While loop output\n",
      "\n",
      "Aiden Huynh\n",
      "\t Residence: Escondido\n",
      "\t Birth Day: May 12\n",
      "\t Hobbies: Gaming, Video Editing\n",
      "\n",
      "Avinh Huynh\n",
      "\t Residence: Escondido\n",
      "\t Birth Day: December 27\n",
      "\t Hobbies: Gaming, Streaming\n",
      "\n"
     ]
    }
   ],
   "source": [
    "mylist = []\n",
    "# Data structure with keys and values\n",
    "\n",
    "# Append to list a Dictionary of key/values related to a person and their hobbies\n",
    "mylist.append({\n",
    "    \"FirstName\": \"Aiden\",\n",
    "    \"LastName\": \"Huynh\",\n",
    "    \"DOB\": \"May 12\",\n",
    "    \"Residence\": \"Escondido\",\n",
    "    \"Email\": \"ah5993909@gmail.com\",\n",
    "    \"Hobbies\": [\"Gaming\", \"Video Editing\"]\n",
    "})\n",
    "\n",
    "# Append a 2nd dictionary\n",
    "mylist.append({\n",
    "    \"FirstName\": \"Avinh\",\n",
    "    \"LastName\": \"Huynh\",\n",
    "    \"DOB\": \"December 27\",\n",
    "    \"Residence\": \"Escondido\",\n",
    "    \"Email\": \"avinhahuynh@gmail.com\",\n",
    "    \"Hobbies\": [\"Gaming\", \"Streaming\"]\n",
    "})\n",
    "\n",
    "# Prints all of the dictionary values\n",
    "def print_data(d_rec):\n",
    "    print(d_rec[\"FirstName\"], d_rec[\"LastName\"]) # comma adds space between two values\n",
    "    print(\"\\t\", \"Residence:\", d_rec[\"Residence\"]) # \\t adds an indent\n",
    "    print(\"\\t\", \"Birth Day:\", d_rec[\"DOB\"])\n",
    "    print(\"\\t\", \"Hobbies: \", end=\"\")\n",
    "    print(\", \".join(d_rec[\"Hobbies\"]))\n",
    "    print()\n",
    "    \n",
    "# While Loop -> While a specified condition is met (i < len(mylist)), it will loop\n",
    "def while_loop():\n",
    "    print(\"While loop output\\n\")\n",
    "    i = 0\n",
    "    while i < len(mylist):\n",
    "        record = mylist[i]\n",
    "        print_data(record)\n",
    "        i += 1\n",
    "    return\n",
    "\n",
    "while_loop()"
   ]
  },
  {
   "cell_type": "markdown",
   "metadata": {},
   "source": [
    "## Recursive Loop Test"
   ]
  },
  {
   "cell_type": "code",
   "execution_count": 28,
   "metadata": {},
   "outputs": [
    {
     "name": "stdout",
     "output_type": "stream",
     "text": [
      "Recursive loop output\n",
      "\n",
      "Aiden Huynh\n",
      "\t Residence: Escondido\n",
      "\t Birth Day: May 12\n",
      "\t Hobbies: Gaming, Video Editing\n",
      "\n",
      "Avinh Huynh\n",
      "\t Residence: Escondido\n",
      "\t Birth Day: December 27\n",
      "\t Hobbies: Gaming, Streaming\n",
      "\n"
     ]
    }
   ],
   "source": [
    "mylist = []\n",
    "# Data structure with keys and values\n",
    "\n",
    "# Append to list a Dictionary of key/values related to a person and their hobbies\n",
    "mylist.append({\n",
    "    \"FirstName\": \"Aiden\",\n",
    "    \"LastName\": \"Huynh\",\n",
    "    \"DOB\": \"May 12\",\n",
    "    \"Residence\": \"Escondido\",\n",
    "    \"Email\": \"ah5993909@gmail.com\",\n",
    "    \"Hobbies\": [\"Gaming\", \"Video Editing\"]\n",
    "})\n",
    "\n",
    "# Append a 2nd dictionary\n",
    "mylist.append({\n",
    "    \"FirstName\": \"Avinh\",\n",
    "    \"LastName\": \"Huynh\",\n",
    "    \"DOB\": \"December 27\",\n",
    "    \"Residence\": \"Escondido\",\n",
    "    \"Email\": \"avinhahuynh@gmail.com\",\n",
    "    \"Hobbies\": [\"Gaming\", \"Streaming\"]\n",
    "})\n",
    "\n",
    "# Prints all of the dictionary values\n",
    "def print_data(d_rec):\n",
    "    print(d_rec[\"FirstName\"], d_rec[\"LastName\"]) # comma adds space between two values\n",
    "    print(\"\\t\", \"Residence:\", d_rec[\"Residence\"]) # \\t adds an indent\n",
    "    print(\"\\t\", \"Birth Day:\", d_rec[\"DOB\"])\n",
    "    print(\"\\t\", \"Hobbies: \", end=\"\")\n",
    "    print(\", \".join(d_rec[\"Hobbies\"]))\n",
    "    print()\n",
    "    \n",
    "# Recursive Loop -> keeps incrementing on each call (n+1) until exit condition is met\n",
    "def recursive_loop(i):\n",
    "    if i < len(mylist):\n",
    "        record = mylist[i]\n",
    "        print_data(record)\n",
    "        recursive_loop(i + 1)\n",
    "    return\n",
    "    \n",
    "print(\"Recursive loop output\\n\")\n",
    "recursive_loop(0)"
   ]
  },
  {
   "cell_type": "markdown",
   "metadata": {},
   "source": [
    "## Reversed List"
   ]
  },
  {
   "cell_type": "code",
   "execution_count": 128,
   "metadata": {},
   "outputs": [
    {
     "name": "stdout",
     "output_type": "stream",
     "text": [
      "[['Grape', '0.03'], ['Mango', '1.32'], ['Kiwi', '1.07'], ['Watermelon', '4.98'], ['Pineapple', '2.18'], ['Blueberry', '0.02'], ['Strawberry', '0.11'], ['Banana', '0.62'], ['Orange', '1.45'], ['Apple', '1.32']]\n"
     ]
    }
   ],
   "source": [
    "# List of fruits and their prices\n",
    "GList = [\n",
    "    [\"Apple\", \"1.32\"],\n",
    "    [\"Orange\", \"1.45\"],\n",
    "    [\"Banana\", \"0.62\"],\n",
    "    [\"Strawberry\", \"0.11\"],\n",
    "    [\"Blueberry\", \"0.02\"],\n",
    "    [\"Pineapple\", \"2.18\"],\n",
    "    [\"Watermelon\", \"4.98\"],\n",
    "    [\"Kiwi\", \"1.07\"],\n",
    "    [\"Mango\", \"1.32\"],\n",
    "    [\"Grape\", \"0.03\"]\n",
    "]\n",
    "\n",
    "# Reverses the list\n",
    "GList.reverse()\n",
    "\n",
    "print(GList)"
   ]
  },
  {
   "cell_type": "markdown",
   "metadata": {},
   "source": [
    "## Randomized List"
   ]
  },
  {
   "cell_type": "code",
   "execution_count": 125,
   "metadata": {},
   "outputs": [
    {
     "name": "stdout",
     "output_type": "stream",
     "text": [
      "[['Strawberry', '0.11'], ['Mango', '1.32'], ['Orange', '1.45'], ['Watermelon', '4.98'], ['Grape', '0.03'], ['Banana', '0.62'], ['Blueberry', '0.02'], ['Kiwi', '1.07'], ['Pineapple', '2.18'], ['Apple', '1.32']]\n"
     ]
    }
   ],
   "source": [
    "import random\n",
    "# Imports various commands for randomization\n",
    "\n",
    "# List of fruits and their prices\n",
    "GList = [\n",
    "    [\"Apple\", \"1.32\"],\n",
    "    [\"Orange\", \"1.45\"],\n",
    "    [\"Banana\", \"0.62\"],\n",
    "    [\"Strawberry\", \"0.11\"],\n",
    "    [\"Blueberry\", \"0.02\"],\n",
    "    [\"Pineapple\", \"2.18\"],\n",
    "    [\"Watermelon\", \"4.98\"],\n",
    "    [\"Kiwi\", \"1.07\"],\n",
    "    [\"Mango\", \"1.32\"],\n",
    "    [\"Grape\", \"0.03\"]\n",
    "]\n",
    "\n",
    "# Randomizes (shuffles) the list\n",
    "random.shuffle(GList)\n",
    "\n",
    "print(GList)"
   ]
  },
  {
   "cell_type": "markdown",
   "metadata": {},
   "source": [
    "## Random Grocery List Generator\n",
    "Uses lists and a loop to generate a specified number of fruits and their respective prices, along with the sum of all of the prices."
   ]
  },
  {
   "cell_type": "code",
   "execution_count": 121,
   "metadata": {},
   "outputs": [
    {
     "name": "stdout",
     "output_type": "stream",
     "text": [
      "Input the desired number of fruits (esc to cancel):\n",
      "You selected 10 fruits:\n",
      "Strawberry: $0.11\n",
      "Apple: $1.32\n",
      "Strawberry: $0.11\n",
      "Blueberry: $0.02\n",
      "Grape: $0.03\n",
      "Apple: $1.32\n",
      "Pineapple: $2.18\n",
      "Strawberry: $0.11\n",
      "Mango: $1.32\n",
      "Banana: $0.62\n",
      "Your total is: $7.14\n"
     ]
    }
   ],
   "source": [
    "import random\n",
    "\n",
    "# List of fruits and their prices\n",
    "GList = [\n",
    "    [\"Apple\", \"1.32\"],\n",
    "    [\"Orange\", \"1.45\"],\n",
    "    [\"Banana\", \"0.62\"],\n",
    "    [\"Strawberry\", \"0.11\"],\n",
    "    [\"Blueberry\", \"0.02\"],\n",
    "    [\"Pineapple\", \"2.18\"],\n",
    "    [\"Watermelon\", \"4.98\"],\n",
    "    [\"Kiwi\", \"1.07\"],\n",
    "    [\"Mango\", \"1.32\"],\n",
    "    [\"Grape\", \"0.03\"]\n",
    "]\n",
    "\n",
    "print(\"Input the desired number of fruits (esc to cancel):\")\n",
    "fruitCount = input() # Prompts user on the desired amount of fruits\n",
    "\n",
    "# k defines the number of fruits to pull, and by setting that equal to the input(), we pull only the amount desired by the user\n",
    "selectedPairs = random.choices(GList, k=int(fruitCount))\n",
    "# int() is used because k must be an integer, did not do this in line 18 because input() must be a string to be printed\n",
    "\n",
    "print(\"You selected \"+fruitCount+\" fruits:\")\n",
    "\n",
    "# This section defines the first term as the fruit and second as the corresponding price, allowing us to use each part separately\n",
    "for pricePair in selectedPairs:\n",
    "    \n",
    "    fruit = pricePair[0]\n",
    "    price = pricePair[1]\n",
    "    \n",
    "    print(fruit+\": $\"+price)\n",
    "    \n",
    "    # Calculates the sum of the prices\n",
    "    n = float(price)\n",
    "    sum = sum+n\n",
    "    total = round(sum, 2)\n",
    "\n",
    "print(\"Your total is: $\"+str(total))\n",
    "\n",
    "sum = 0"
   ]
  },
  {
   "cell_type": "markdown",
   "metadata": {},
   "source": [
    "## Quiz using lists\n",
    "\n",
    "<a href=\"https://aidenhuynh.github.io/CS_Swag/jupyter/markdown/2022/09/04/Python_Quiz.html\">Basic Python Quiz</a>"
   ]
  }
 ],
 "metadata": {
  "kernelspec": {
   "display_name": "Python 3.8.9 64-bit",
   "language": "python",
   "name": "python3"
  },
  "language_info": {
   "codemirror_mode": {
    "name": "ipython",
    "version": 3
   },
   "file_extension": ".py",
   "mimetype": "text/x-python",
   "name": "python",
   "nbconvert_exporter": "python",
   "pygments_lexer": "ipython3",
   "version": "3.8.9"
  },
  "orig_nbformat": 4,
  "vscode": {
   "interpreter": {
    "hash": "31f2aee4e71d21fbe5cf8b01ff0e069b9275f58929596ceb00d14d90e3e16cd6"
   }
  }
 },
 "nbformat": 4,
 "nbformat_minor": 2
}
