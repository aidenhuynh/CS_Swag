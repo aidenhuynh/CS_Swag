{
 "cells": [
  {
   "cell_type": "markdown",
   "metadata": {},
   "source": [
    "# \"Basic Python Quiz\"\n",
    "> \"Includes different messages based on final percentage\"\n",
    "\n",
    "- toc: true\n",
    "- branch: master\n",
    "- badges: true\n",
    "- comments: true\n",
    "- categories: [jupyter,markdown]"
   ]
  },
  {
   "cell_type": "code",
   "execution_count": null,
   "metadata": {},
   "outputs": [
    {
     "ename": "",
     "evalue": "",
     "output_type": "error",
     "traceback": [
      "\u001b[1;31mRunning cells with 'Python 3.9.6 64-bit' requires ipykernel package.\n",
      "\u001b[1;31mRun the following command to install 'ipykernel' into the Python environment. \n",
      "\u001b[1;31mCommand: 'c:/Users/bubuh/AppData/Local/Programs/Python/Python39/python.exe -m pip install ipykernel -U --user --force-reinstall'"
     ]
    }
   ],
   "source": [
    "import getpass, sys\n",
    "\n",
    "def question_with_response(prompt):\n",
    "    print(\"Question: \" + prompt)\n",
    "    msg = input()\n",
    "    return msg\n",
    "\n",
    "questions = 6\n",
    "correct = 0\n",
    "\n",
    "print('Hello, ' + getpass.getuser() + \" running \" + sys.executable)\n",
    "print(\"You will be asked \" + str(questions) + \" questions.\")\n",
    "rsp = question_with_response(\"Are you ready to take a test?\")\n",
    "if rsp == \"yes\":\n",
    "    print(getpass.getuser() +\": yes\")\n",
    "    print(\"Great!\")\n",
    "elif rsp == \"no\":\n",
    "    print(getpass.getuser() +\": no\")\n",
    "    print(\"Too bad!\")\n",
    "else:\n",
    "    print(\"I did not account for replies other than yes or no so L bozo 🦕\")\n",
    "\n",
    "questionsList = [\n",
    "    [\"What command is used to include other functions that were previously developed?\", \"import\"],\n",
    "    [\"What command is used to evaluate correct or incorrect response in this example?\", \"if\"],\n",
    "    [\"Each 'if' command contains an '_________' to determine a true or false condition?\", \"expression\"],\n",
    "    [\"What command is used to define functions?\", \"def\"],\n",
    "    [\"What are two or more lines of code called?\", \"sequence\"],\n",
    "    [\"What command is used to show text on your screen?\", \"print\"]\n",
    "]\n",
    "\n",
    "for QAPair in questionsList:\n",
    "\n",
    "    question = QAPair[0]\n",
    "    answer = QAPair[1]\n",
    "\n",
    "    rsp = question_with_response(question)\n",
    "    if rsp == answer:\n",
    "        print(rsp + \" is correct!\")\n",
    "        correct += 1\n",
    "    else:\n",
    "        print(rsp + \" is incorrect!\")\n",
    "\n",
    "quotient=correct/questions\n",
    "percentage=round((quotient * 100), 2)\n",
    "\n",
    "print(getpass.getuser()+\", you scored \" + str(correct) +\"/\" + str(questions))\n",
    "print(\"That's\", percentage,\"%!\")\n",
    "\n",
    "percentList = [\n",
    "    [100,\"Perfect!\"],\n",
    "    [90,\"Great!\"],\n",
    "    [80,\"Nice!\"],\n",
    "    [70,\"Could be better\"],\n",
    "    [60,\"Needs improvement\"],\n",
    "]\n",
    "\n",
    "for numbersPair in percentList:\n",
    "    \n",
    "    numbers = numbersPair[0]\n",
    "    note = numbersPair[1]\n",
    "    \n",
    "    if numbers + 10 > percentage >= numbers:\n",
    "        print(note)    \n",
    "\n",
    "if 60 > percentage > 0:\n",
    "    print(\"Skill issue?\")\n",
    "elif percentage ==0:\n",
    "    print(\"Very cool!!\")\n",
    "    \n",
    "# I am so cool"
   ]
  }
 ],
 "metadata": {
  "kernelspec": {
   "display_name": "Python 3.9.6 64-bit",
   "language": "python",
   "name": "python3"
  },
  "language_info": {
   "codemirror_mode": {
    "name": "ipython",
    "version": 3
   },
   "file_extension": ".py",
   "mimetype": "text/x-python",
   "name": "python",
   "nbconvert_exporter": "python",
   "pygments_lexer": "ipython3",
   "version": "3.9.6"
  },
  "orig_nbformat": 4,
  "vscode": {
   "interpreter": {
    "hash": "da4dce382817be60024c8e18a91f9139c77d49bb7014d165106629f367b683b0"
   }
  }
 },
 "nbformat": 4,
 "nbformat_minor": 2
}
