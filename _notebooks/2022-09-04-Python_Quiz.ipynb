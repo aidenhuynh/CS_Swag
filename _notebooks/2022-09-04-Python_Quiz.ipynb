{
 "cells": [
  {
   "cell_type": "markdown",
   "metadata": {},
   "source": [
    "# \"Basic Python Quiz\"\n",
    "> \"Includes different messages based on final percentage\"\n",
    "\n",
    "- toc: true\n",
    "- branch: master\n",
    "- badges: true\n",
    "- comments: true\n",
    "- categories: [jupyter,markdown]"
   ]
  },
  {
   "cell_type": "code",
   "execution_count": 3,
   "metadata": {},
   "outputs": [
    {
     "name": "stdout",
     "output_type": "stream",
     "text": [
      "Hello, Aiden running /Users/Aiden/opt/anaconda3/bin/python\n",
      "You will be asked 6 questions.\n",
      "Question: Are you ready to take a test?\n",
      "Aiden: yes\n",
      "Great!\n",
      "Question: What command is used to include other functions that were previously developed?\n",
      "def is incorrect!\n",
      "Question: What command is used to evaluate correct or incorrect response in this example?\n",
      " is incorrect!\n",
      "Question: Each 'if' command contains an '_________' to determine a true or false condition?\n",
      " is incorrect!\n",
      "Question: What command is used to define functions?\n",
      " is incorrect!\n",
      "Question: What are two or more lines of code called?\n",
      " is incorrect!\n",
      "Question: What command is used to show text on your screen?\n",
      " is incorrect!\n",
      "Aiden, you scored 0/6\n",
      "That's 0.0 %!\n",
      "Very cool!!\n"
     ]
    }
   ],
   "source": [
    "import getpass, sys\n",
    "\n",
    "def question_with_response(prompt):\n",
    "    print(\"Question: \" + prompt)\n",
    "    msg = input()\n",
    "    return msg\n",
    "\n",
    "questions = 6\n",
    "correct = 0\n",
    "firstQ = False\n",
    "\n",
    "print('Hello, ' + getpass.getuser() + \" running \" + sys.executable)\n",
    "print(\"You will be asked \" + str(questions) + \" questions.\")\n",
    "while firstQ == False:\n",
    "    rsp = question_with_response(\"Are you ready to take a test?\")\n",
    "    rsp.lower()\n",
    "    \n",
    "    if rsp == \"yes\":\n",
    "        print(getpass.getuser() +\": yes\")\n",
    "        print(\"Great!\")\n",
    "        firstQ = True\n",
    "    elif rsp == \"no\":\n",
    "        print(getpass.getuser() +\": no\")\n",
    "        print(\"Too bad!\")\n",
    "        firstQ = True\n",
    "    else:\n",
    "        print(\"It's a yes or no question.\")\n",
    "\n",
    "questionsList = [\n",
    "    [\"What command is used to include other functions that were previously developed?\", \"import\"],\n",
    "    [\"What command is used to evaluate correct or incorrect response in this example?\", \"if\"],\n",
    "    [\"Each 'if' command contains an '_________' to determine a true or false condition?\", \"expression\"],\n",
    "    [\"What command is used to define functions?\", \"def\"],\n",
    "    [\"What are two or more lines of code called?\", \"sequence\"],\n",
    "    [\"What command is used to show text on your screen?\", \"print\"]\n",
    "]\n",
    "\n",
    "for QAPair in questionsList:\n",
    "\n",
    "    question = QAPair[0]\n",
    "    answer = QAPair[1]\n",
    "\n",
    "    rsp = question_with_response(question)\n",
    "    rsp.lower()\n",
    "    \n",
    "    if rsp == answer:\n",
    "        print(rsp + \" is correct!\")\n",
    "        correct += 1\n",
    "    else:\n",
    "        print(rsp + \" is incorrect!\")\n",
    "\n",
    "quotient=correct/questions\n",
    "percentage=round((quotient * 100), 2)\n",
    "\n",
    "print(getpass.getuser()+\", you scored \" + str(correct) +\"/\" + str(questions))\n",
    "print(\"That's\", percentage,\"%!\")\n",
    "\n",
    "percentList = [\n",
    "    [100,\"Perfect!\"],\n",
    "    [90,\"Great!\"],\n",
    "    [80,\"Nice!\"],\n",
    "    [70,\"Could be better\"],\n",
    "    [60,\"Needs improvement\"],\n",
    "]\n",
    "\n",
    "for numbersPair in percentList:\n",
    "    \n",
    "    numbers = numbersPair[0]\n",
    "    note = numbersPair[1]\n",
    "    \n",
    "    if numbers + 10 > percentage >= numbers:\n",
    "        print(note)    \n",
    "\n",
    "if 60 > percentage > 0:\n",
    "    print(\"Skill issue?\")\n",
    "elif percentage ==0:\n",
    "    print(\"Very cool!!\")\n",
    "    \n",
    "# I am so cool"
   ]
  }
 ],
 "metadata": {
  "kernelspec": {
   "display_name": "Python 3.9.12 ('base')",
   "language": "python",
   "name": "python3"
  },
  "language_info": {
   "codemirror_mode": {
    "name": "ipython",
    "version": 3
   },
   "file_extension": ".py",
   "mimetype": "text/x-python",
   "name": "python",
   "nbconvert_exporter": "python",
   "pygments_lexer": "ipython3",
   "version": "3.9.12"
  },
  "orig_nbformat": 4,
  "vscode": {
   "interpreter": {
    "hash": "ffc1763adbe1425c55f4d4f6bbc7c5400773fec8c10f143e4ec62144ce703445"
   }
  }
 },
 "nbformat": 4,
 "nbformat_minor": 2
}
