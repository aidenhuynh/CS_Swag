{
 "cells": [
  {
   "cell_type": "markdown",
   "metadata": {},
   "source": [
    "# \"Week 3 - Create Task Planning\"\n",
    "> \"Ideas for the Create Task\"\n",
    "\n",
    "- toc: true\n",
    "- branch: master\n",
    "- badges: true\n",
    "- comments: true\n",
    "- categories: [jupyter,markdown]\n",
    "\n",
    "## Requirements:\n",
    "* Code Analysis: (4.A)\n",
    "  - Clearly state program's purpose, functionality, inputs, and outputs (written response)\n",
    "  - Video showing program functioning (CAN NOT BE SCREENSHOTS)\n",
    "     * Input\n",
    "     * Program functionality\n",
    "     * Output\n",
    "* Data Abstraction: (3.B)\n",
    "  - Two segments:\n",
    "    * Data storage (list)\n",
    "    * Stored data being used as part of fulfilling the program's purpose\n",
    "  - Identify the name of the list\n",
    "  - Describe the data within the list and how it relates to the program\n",
    "* Managing Complexity: (3.C)\n",
    "  - Program code segment that uses a list to simplify otherwise needlessly complex code (like the python quiz for loop)\n",
    "  - Explain how the list simplifies the code, and how to code it would be coded differently without the list (written)\n",
    "* Procedural Abstraction: (3.B)\n",
    "  - Use abstraction to simplify programs\n",
    "    * A procedure with at least one parameter that affects the functionality of the procedure\n",
    "    * Show where the procedure is being called\n",
    "  - Describe the function of the procedure and how it simplifies the program\n",
    "* Algorithm Implementation: (2.B)\n",
    "  - An algorithm including...\n",
    "    * Sequencing\n",
    "    * Selection\n",
    "    * Iteration\n",
    "  - Explain the steps of the algorithm with great detail\n",
    "* Testing: (4.C)\n",
    "  - Describe two calls to the procedure. Each call must pass a different argument that cause a different segment of code in the algorithm to execute.\n",
    "  - Describe the condition being tested by each call to the procedure.\n",
    "  - Identify the result of each call.\n",
    "\n",
    "## Collaboration Rules:\n",
    "* 2 students working on the same program\n",
    "  - Pair programming\n",
    "  - Dividing a complex program into different parts\n",
    "* Giving feedback\n",
    "* Providing debugging assistance\n",
    "* Citing code from a peer\n",
    "  - \"A collaborative peer\" to protect anonymity\n",
    "\n",
    "## Planning:\n",
    "* Something involving randomization, always fun"
   ]
  },
  {
   "cell_type": "code",
   "execution_count": null,
   "metadata": {},
   "outputs": [],
   "source": []
  }
 ],
 "metadata": {
  "kernelspec": {
   "display_name": "Python 3.10.7 64-bit (microsoft store)",
   "language": "python",
   "name": "python3"
  },
  "language_info": {
   "name": "python",
   "version": "3.10.7"
  },
  "orig_nbformat": 4,
  "vscode": {
   "interpreter": {
    "hash": "c066807a565bd8700b9082bc9add700cff6296b62ed772c406ede5f65ece73c9"
   }
  }
 },
 "nbformat": 4,
 "nbformat_minor": 2
}
