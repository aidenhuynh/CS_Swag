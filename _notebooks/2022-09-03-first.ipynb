{
 "cells": [
  {
   "cell_type": "markdown",
   "metadata": {},
   "source": [
    "# First Jupyter Post\n",
    "### behold, the most advanced Python script you'll ever see"
   ]
  },
  {
   "cell_type": "code",
   "execution_count": 2,
   "metadata": {},
   "outputs": [
    {
     "name": "stdout",
     "output_type": "stream",
     "text": [
      "what's up gamers\n"
     ]
    }
   ],
   "source": [
    "\n",
    "swag = \"what's up gamers\"\n",
    "print(swag)"
   ]
  }
 ],
 "metadata": {
  "kernelspec": {
   "display_name": "Python 3.9.12 ('base')",
   "language": "python",
   "name": "python3"
  },
  "language_info": {
   "codemirror_mode": {
    "name": "ipython",
    "version": 3
   },
   "file_extension": ".py",
   "mimetype": "text/x-python",
   "name": "python",
   "nbconvert_exporter": "python",
   "pygments_lexer": "ipython3",
   "version": "3.9.12"
  },
  "orig_nbformat": 4,
  "vscode": {
   "interpreter": {
    "hash": "07155a79516d9d6322728f56e503bd9fad93c9b5e90098fd9d867d20a0d490a6"
   }
  }
 },
 "nbformat": 4,
 "nbformat_minor": 2
}
