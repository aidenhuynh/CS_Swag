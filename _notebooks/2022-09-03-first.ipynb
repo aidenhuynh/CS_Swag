{
 "cells": [
  {
   "cell_type": "markdown",
   "metadata": {},
   "source": [
    "# \"First Jupyter Post\"\n",
    "> \"The most advanced Python you'll ever see\"\n",
    "\n",
    "- toc: true\n",
    "- branch: master\n",
    "- badges: true\n",
    "- comments: true\n",
    "- categories: [jupyter]\n",
    "\n"
   ]
  },
  {
   "cell_type": "code",
   "execution_count": 10,
   "metadata": {},
   "outputs": [
    {
     "name": "stdout",
     "output_type": "stream",
     "text": [
      "what's up gamers\n",
      "Blog: Say something cool\n",
      "Aiden: poggers\n"
     ]
    }
   ],
   "source": [
    "import getpass\n",
    "\n",
    "swag = \"what's up gamers\"\n",
    "print(swag)\n",
    "\n",
    "def cool(sample):\n",
    "    print(sample)\n",
    "    ans = input()\n",
    "    return ans\n",
    "\n",
    "rsp = cool(\"Blog: Say something cool\")\n",
    "if rsp == \"something cool\":\n",
    "    print(getpass.getuser()+\": \"+rsp)\n",
    "    print(\"Blog: haha very clever 😐\")\n",
    "else:\n",
    "    print(getpass.getuser()+\": \"+rsp)\n",
    "    print(\"Blog: haha yeah that is pretty cool!\")\n"
   ]
  }
 ],
 "metadata": {
  "kernelspec": {
   "display_name": "Python 3.9.6 64-bit",
   "language": "python",
   "name": "python3"
  },
  "language_info": {
   "codemirror_mode": {
    "name": "ipython",
    "version": 3
   },
   "file_extension": ".py",
   "mimetype": "text/x-python",
   "name": "python",
   "nbconvert_exporter": "python",
   "pygments_lexer": "ipython3",
   "version": "3.9.6"
  },
  "orig_nbformat": 4,
  "vscode": {
   "interpreter": {
    "hash": "da4dce382817be60024c8e18a91f9139c77d49bb7014d165106629f367b683b0"
   }
  }
 },
 "nbformat": 4,
 "nbformat_minor": 2
}
