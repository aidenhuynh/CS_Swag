{
 "cells": [
  {
   "cell_type": "markdown",
   "metadata": {},
   "source": [
    "# Unit 3 Sections 5-7\n",
    "> Welcome to the World of Booleans and Conditionals!\n",
    "\n",
    "- toc: true\n",
    "- branch: master\n",
    "- badges: true\n",
    "- comments: true\n",
    "- permalink: /jupyter/booleans\n",
    "- categories: [jupyter,markdown]"
   ]
  },
  {
   "cell_type": "markdown",
   "metadata": {},
   "source": [
    "# Lesson Overview: 3.5 - Boolean Expressions\n",
    "- Here we will focus on:\n",
    "    - basics of Booleans\n",
    "    - its relationship with binary\n",
    "    - relational operators\n",
    "    - Logical Operators\n",
    "\n",
    "## What is a boolean?\n",
    "- A data type with two possible values: true or false\n",
    "\n",
    "## Boolean and Binary\n",
    "So similar yet so different.\n",
    "- Boolean math and binary notation both use the same two ciphers: 1 and 0.\n",
    "- However, please note that Boolean quantities are restricted to a singlular bit (can only be either 1, or 0)\n",
    "- On the otherhand, binary numbers may be composed of many bits adding up in place-weighted form to any finite value, or size\n",
    "\n",
    "## Must Knows\n",
    "- A Boolean value is either TRUE or FALSE\n",
    "- The AP Exam will provide you with a reference sheet with the operators below.\n",
    "\n",
    "![](https://samitpoojary.github.io/FASTPAGES/images/copied_from_nb/ghtop_images/operators.png)\n",
    "\n",
    "- A few ways these operators could be used...\n",
    "\n",
    "![](https://samitpoojary.github.io/FASTPAGES/images/copied_from_nb/ghtop_images/operators2.png)"
   ]
  },
  {
   "cell_type": "markdown",
   "metadata": {},
   "source": [
    "## Relational Operators in action\n",
    "- How could you use operators to determine if the average of 5 grades is greater than 80?"
   ]
  },
  {
   "cell_type": "markdown",
   "metadata": {},
   "source": [
    "\n",
    "- With the grades below, use a boolean expression to determine if the average grade is above an 80 and print the result (True or False)\n",
    "- Try it in as few steps as possible!\n",
    "- Be creative! There are obviously TONS of different practical solutions"
   ]
  },
  {
   "cell_type": "code",
   "execution_count": 2,
   "metadata": {
    "vscode": {
     "languageId": "javascript"
    }
   },
   "outputs": [
    {
     "name": "stdout",
     "output_type": "stream",
     "text": [
      "The average grade is below 80%.\n"
     ]
    }
   ],
   "source": [
    "gradeList = [90, 65, 60, 75, 95]\n",
    "\n",
    "averageGrade = sum(gradeList)/len(gradeList)\n",
    "\n",
    "if averageGrade > 80:\n",
    "    print(\"The average grade is: \" + averageGrade + \"%\")\n",
    "else:\n",
    "    print(\"The average grade is below 80%.\")"
   ]
  },
  {
   "cell_type": "markdown",
   "metadata": {},
   "source": [
    "## The versatility of relational operators:"
   ]
  },
  {
   "cell_type": "code",
   "execution_count": 1,
   "metadata": {
    "vscode": {
     "languageId": "javascript"
    }
   },
   "outputs": [
    {
     "name": "stdout",
     "output_type": "stream",
     "text": [
      "100 == 100: True\n",
      "Hello == Adios: False\n",
      "Hello != Adios: True\n",
      "Hello == Hola: True\n",
      "5>=4: True\n",
      "\n",
      "['a','b','c'] > ['x','y','z']: False\n",
      "[1,2,3,5] > [1,2,3,4]: True\n",
      "[1,2,3,5] < [1,2,3,4]: False\n",
      "[1,2,3,5] == [1,2,3,4]: False\n"
     ]
    }
   ],
   "source": [
    "print(\"100 == 100:\",100==100)\n",
    "print(\"Hello == Adios:\",\"greeting\"==\"farewell\")\n",
    "print(\"Hello != Adios:\",\"greeting\"!=\"farewell\")\n",
    "print(\"Hello == Hola:\",\"greeting\"==\"greeting\")\n",
    "print(\"5>=4:\", 5>=4)\n",
    "print ('')\n",
    "\n",
    "# Notice that relational operators can even work on lists!\n",
    "# For lists, the relational operator compares each respective component until an answer is derived\n",
    "\n",
    "print(\"['a','b','c'] > ['x','y','z']:\", ['a','b','c'] > ['x','y','z'])\n",
    "print(\"[1,2,3,5] > [1,2,3,4]:\", [1,2,3,5] > [1,2,3,4])\n",
    "print(\"[1,2,3,5] < [1,2,3,4]:\", [1,2,3,5] < [1,2,3,4])\n",
    "print(\"[1,2,3,5] == [1,2,3,4]:\", [1,2,3,5] == [1,2,3,4])\n",
    "\n"
   ]
  },
  {
   "cell_type": "markdown",
   "metadata": {},
   "source": [
    "## Logical Operators!\n",
    "These types of operators don't necessarily deal with equivalent/non-equivalent values, but they rather work on operands to produce a singular boolean result\n",
    "- AND : returns TRUE if the operands around it are TRUE\n",
    "- OR : returns TRUE if at least one operand is TRUE\n",
    "- NOT : returns TRUE if the following boolean is FALSE"
   ]
  },
  {
   "cell_type": "markdown",
   "metadata": {},
   "source": [
    "#### Turn the following arithmetic phrases into either True or False statements as indicated USING LOGICAL OPERATORS"
   ]
  },
  {
   "cell_type": "code",
   "execution_count": 7,
   "metadata": {
    "vscode": {
     "languageId": "javascript"
    }
   },
   "outputs": [
    {
     "name": "stdout",
     "output_type": "stream",
     "text": [
      "1 > 2 or 5 < 12: True\n",
      "24 > 8: False\n",
      "10 > 20: False\n"
     ]
    }
   ],
   "source": [
    "# Output TRUE  using OR\n",
    "print(\"1 > 2 or 5 < 12:\", 1 > 2 or 5 < 12)\n",
    "# Output TRUE  using OR ^\n",
    "\n",
    "\n",
    "# Output FALSE using NOT\n",
    "print(\"24 > 8:\", not 24 > 8)\n",
    "\n",
    "# Output FALSE using AND\n",
    "print(\"10 > 20:\", 10 > 20 and 20 < 10)"
   ]
  },
  {
   "cell_type": "markdown",
   "metadata": {},
   "source": [
    "# Lesson Overview: 3.6 - Conditionals"
   ]
  },
  {
   "cell_type": "markdown",
   "metadata": {},
   "source": [
    "## Focusing on Selection\n",
    "**Selection**: uses a condition that evaluates to <i>true</i> or <i>false</i>\n",
    "\n",
    "Selection determines which part of an algorithm are executed based on a condition being true or false\n",
    "\n",
    "**Algorithm** is a finite set of instructions that accomplish a specific task\n",
    "![](https://samitpoojary.github.io/FASTPAGES/images/copied_from_nb/ghtop_images/conditionals.png)"
   ]
  },
  {
   "cell_type": "markdown",
   "metadata": {},
   "source": [
    "## Conditional Statements\n",
    "Also known as \"if statements\"\n",
    "\n",
    "Can be seen as if statements or if blocks\n",
    "\n",
    "![](https://samitpoojary.github.io/FASTPAGES/images/copied_from_nb/ghtop_images/conditionals2.png)\n",
    "\n",
    "Can also be seen as if else statements or if else-blocks\n",
    "![](https://samitpoojary.github.io/FASTPAGES/images/copied_from_nb/ghtop_images/conditionals3.png)"
   ]
  },
  {
   "cell_type": "code",
   "execution_count": 35,
   "metadata": {
    "vscode": {
     "languageId": "javascript"
    }
   },
   "outputs": [
    {
     "name": "stdout",
     "output_type": "stream",
     "text": [
      "x is greater than y\n"
     ]
    }
   ],
   "source": [
    "x = 20\n",
    "y = 10\n",
    "if x > y:\n",
    "    print(\"x is greater than y\")"
   ]
  },
  {
   "cell_type": "code",
   "execution_count": 36,
   "metadata": {
    "vscode": {
     "languageId": "javascript"
    }
   },
   "outputs": [
    {
     "name": "stdout",
     "output_type": "stream",
     "text": [
      "x is greater than y\n"
     ]
    }
   ],
   "source": [
    "x = 20\n",
    "y = 10\n",
    "if x > y:\n",
    "    print(\"x is greater than y\")\n",
    "else:\n",
    "    print(\"x is not greater than y\")"
   ]
  },
  {
   "cell_type": "markdown",
   "metadata": {},
   "source": [
    "## Participation \n",
    "\n",
    "-Calculate the total sum of two numbers, if it is equal to 200, print 200, if otherwise, print the sum."
   ]
  },
  {
   "cell_type": "code",
   "execution_count": 9,
   "metadata": {
    "vscode": {
     "languageId": "javascript"
    }
   },
   "outputs": [
    {
     "name": "stdout",
     "output_type": "stream",
     "text": [
      "250\n"
     ]
    }
   ],
   "source": [
    "num1 = 100\n",
    "num2 = 150\n",
    "sum = num1 + num2\n",
    "\n",
    "# you could just do\n",
    "# print(sum)\n",
    "# because if it's 200 it'll print 200 anyways lol\n",
    "\n",
    "if sum == 200:\n",
    "    print(200) # or just print(sum)...\n",
    "else:\n",
    "    print(sum)"
   ]
  },
  {
   "cell_type": "markdown",
   "metadata": {},
   "source": [
    "## Lesson Overview - 3.7 Nested Conditionals"
   ]
  },
  {
   "cell_type": "markdown",
   "metadata": {},
   "source": [
    "- Nested conditional statements consist of conditional statements within other conditional statements\n",
    "- Utilizes \"if else\" statements within \"if else\" statements"
   ]
  },
  {
   "cell_type": "markdown",
   "metadata": {},
   "source": [
    "- Basics of a nested conditional:\n",
    "![](https://samitpoojary.github.io/FASTPAGES/images/copied_from_nb/ghtop_images/martin1.jpg)"
   ]
  },
  {
   "cell_type": "markdown",
   "metadata": {},
   "source": [
    "- Block Coding Visual of Nested Conditionals:\n",
    "![](https://samitpoojary.github.io/FASTPAGES/images/copied_from_nb/ghtop_images/martin2.jpg)\n",
    "- Example Psuedocode of Nested Conditional Statements\n",
    "![](https://samitpoojary.github.io/FASTPAGES/images/copied_from_nb/ghtop_images/martin3.jpg)\n",
    "\n",
    "# Analyzing Code Walkthrough\n",
    "- Psuedocode to the left, block code to the right\n",
    "- Approach the problem by going through each condition one at a time\n",
    "    - Decide which ones are false to skip and which ones are true to execute\n",
    "\n",
    "- You Try:\n",
    "![](https://samitpoojary.github.io/FASTPAGES/images/copied_from_nb/ghtop_images/martin4.jpg)"
   ]
  },
  {
   "cell_type": "code",
   "execution_count": null,
   "metadata": {
    "vscode": {
     "languageId": "javascript"
    }
   },
   "outputs": [],
   "source": [
    "score = 82\n",
    "if (score >= 90) \n",
    "{\n",
    "    console.log(\"You got an A, congrats!\")\n",
    "}\n",
    "else\n",
    "{\n",
    "    if (score >= 75)\n",
    "    {\n",
    "        console.log(\"Please come to retake up to a 90 next week at tutorial!\")\n",
    "    }\n",
    "    else\n",
    "    {\n",
    "        console.log(\"You have detention!\")\n",
    "    }\n",
    "}"
   ]
  },
  {
   "cell_type": "code",
   "execution_count": null,
   "metadata": {
    "vscode": {
     "languageId": "javascript"
    }
   },
   "outputs": [],
   "source": [
    "protein = 25\n",
    "carbs = 36\n",
    "sugar = 11\n",
    "if (carbs >= 55 || protein <= 20 || sugar >= 15)\n",
    "{\n",
    "    console.log(\"Your lunch is too unhealthy, please pick a new one\")\n",
    "}\n",
    "else\n",
    "{\n",
    "    if (carbs < 35 || protein < 25)\n",
    "    {\n",
    "    console.log (\"This lunch is alright but try to add some more carbs or protein\")\n",
    "    }\n",
    "    else \n",
    "    {\n",
    "    if (sugar >= 11)\n",
    "    {\n",
    "    console.log (\"Looks great but lets see if we can cut down on sugar, we don't want diabetes!\")\n",
    "    }\n",
    "    else\n",
    "    {\n",
    "        console.log (\"Amazing, you created a healthy lunch!!!\")\n",
    "    }\n",
    "    }\n",
    "}"
   ]
  },
  {
   "cell_type": "markdown",
   "metadata": {},
   "source": [
    "## Writing Nested Code Activity\n",
    "1. Write a program that fits these conditions using nested conditionals:\n",
    "    - If a person has at least 8 hours, they are experienced\n",
    "    - If a person is experienced their salary is 90k, if they have ten hours or above their salary 150k\n",
    "    - If a person is inexperienced their salary is always 50k\n",
    "    - print the salary of the person at the end and whether they are experienced or not"
   ]
  },
  {
   "cell_type": "code",
   "execution_count": 13,
   "metadata": {
    "vscode": {
     "languageId": "javascript"
    }
   },
   "outputs": [
    {
     "name": "stdout",
     "output_type": "stream",
     "text": [
      "This person has...\n",
      "Salary: 150k\n",
      "Experience: true\n"
     ]
    }
   ],
   "source": [
    "var hrs = 10\n",
    "var salary = \"\"\n",
    "var experienced = true\n",
    "\n",
    "if (hrs >= 10) {\n",
    "    salary = \"150k\"\n",
    "}\n",
    "else if (hrs >= 8) {\n",
    "    salary = \"90k\"\n",
    "}\n",
    "else {\n",
    "    salary = \"50k\"\n",
    "    experienced = false\n",
    "}\n",
    "console.log(\"This person has...\\n\" + \"Salary: \" + salary + \"\\n\" + \"Experience: \" + experienced)"
   ]
  },
  {
   "cell_type": "markdown",
   "metadata": {},
   "source": [
    "## Hacks Assignments:\n",
    "**Conditionals**:\n",
    "\n",
    "- Write a program that fits these conditions using nested conditionals:\n",
    "    - If the product is expired, print \"this product is no good\"\n",
    "    - If the cost is above 50 dollars, and the product isn't expired, print \"this product is too expensive\"\n",
    "    - If the cost is more than 25 dollars but under 50, and the product isn't expired, print \"this is a regular product\"\n",
    "    - If the cost is under 25 dollars, print \"this is a cheap product\""
   ]
  },
  {
   "cell_type": "code",
   "execution_count": 21,
   "metadata": {
    "vscode": {
     "languageId": "javascript"
    }
   },
   "outputs": [
    {
     "name": "stdout",
     "output_type": "stream",
     "text": [
      "cheap\n"
     ]
    }
   ],
   "source": [
    "product = {\"expired\":false, \"cost\":10}\n",
    "\n",
    "if (product[\"expired\"] == true) {\n",
    "    console.log(\"This product is no good!!!!!!!\")\n",
    "}\n",
    "else {\n",
    "    if (product[\"cost\"] > 50) {\n",
    "        console.log(\"THis product is too expensive!11111\")\n",
    "    }\n",
    "    else if (product[\"cost\"] > 25) {\n",
    "        console.log(\"this product normal\")\n",
    "    }\n",
    "    else {\n",
    "        console.log(\"cheap\")\n",
    "    }\n",
    "}\n"
   ]
  },
  {
   "cell_type": "markdown",
   "metadata": {},
   "source": [
    "**Boolean/Conditionals**:\n",
    "- Create a multiple choice quiz that ...\n",
    "    - uses Boolean expressions\n",
    "    - uses Logical operators\n",
    "    - uses Conditional statements\n",
    "    - prompts quiz-taker with multiple options (only one can be right)\n",
    "    - has at least 3 questions\n",
    "- Points will be awarded for creativity, intricacy, and how well Boolean/Binary concepts have been intertwined"
   ]
  },
  {
   "cell_type": "code",
   "execution_count": 9,
   "metadata": {},
   "outputs": [
    {
     "name": "stdout",
     "output_type": "stream",
     "text": [
      "What language was this quiz coded in?\n",
      "\n",
      "a: python\n",
      "b: english\n",
      "c: java\n",
      "d: javascript\n",
      "\n",
      "correct!11111\n",
      "you score is: 1\n",
      "\n",
      "sus amognsu\n",
      "\n",
      "a: among us\n",
      "b: sussy baka\n",
      "c: among among\n",
      "d: agmosnus\n",
      "\n",
      "correct!11111\n",
      "you score is: 2\n",
      "\n",
      "what do you think of kanye\n",
      "\n",
      "a: great\n",
      "b: ok\n",
      "c: meh\n",
      "d: no good\n",
      "\n",
      "correct!11111\n",
      "you score is: 3\n",
      "\n"
     ]
    }
   ],
   "source": [
    "qAndA = {\n",
    "    \"question\" : [\"What language was this quiz coded in?\", \"sus amognsu\", \"what do you think of kanye\"],\n",
    "    \"answers\" : [[\"python\",\"english\",\"java\",\"javascript\"], [\"among us\",\"sussy baka\",\"among among\",\"agmosnus\"], [\"great\",\"ok\",\"meh\",\"no good\"]], \n",
    "    \"correct\" : [\"a\", \"b\", \"d\"],\n",
    "    \"letters\" : [\"a\", \"b\", \"c\", \"d\"]\n",
    "    }\n",
    "\n",
    "totalQs = len(qAndA[\"question\"])\n",
    "i = 0\n",
    "score = 0\n",
    "\n",
    "while i != totalQs:\n",
    "    qAnswered = False\n",
    "\n",
    "    currentQ = qAndA[\"question\"][i]\n",
    "    print(currentQ + \"\\n\")\n",
    "    \n",
    "    n = 0\n",
    "\n",
    "    while n < 4:\n",
    "        print(str(qAndA[\"letters\"][n]) + \": \" + str(qAndA[\"answers\"][i][n]))\n",
    "        n += 1\n",
    "    \n",
    "    ans = input(currentQ)\n",
    "    ans.lower()\n",
    "    \n",
    "    print(\"\")\n",
    "    \n",
    "    while qAnswered == False:\n",
    "        if  ans == \"a\" or \"b\" or \"c\" or \"d\":\n",
    "            if ans == qAndA[\"correct\"][i]:\n",
    "                score += 1\n",
    "                print(\"correct!11111\")\n",
    "            else:\n",
    "                print(\"NO\")\n",
    "\n",
    "            qAnswered = True\n",
    "        else:\n",
    "            print(\"Enter a valid letter option (a, b, c, or d)\")\n",
    "            \n",
    "    print(\"you score is: \" + str(score) + \"\\n\")\n",
    "    \n",
    "    i += 1"
   ]
  }
 ],
 "metadata": {
  "kernelspec": {
   "display_name": "Python 3.9.12 ('base')",
   "language": "python",
   "name": "python3"
  },
  "language_info": {
   "codemirror_mode": {
    "name": "ipython",
    "version": 3
   },
   "file_extension": ".py",
   "mimetype": "text/x-python",
   "name": "python",
   "nbconvert_exporter": "python",
   "pygments_lexer": "ipython3",
   "version": "3.9.12"
  },
  "orig_nbformat": 4,
  "vscode": {
   "interpreter": {
    "hash": "ffc1763adbe1425c55f4d4f6bbc7c5400773fec8c10f143e4ec62144ce703445"
   }
  }
 },
 "nbformat": 4,
 "nbformat_minor": 2
}
