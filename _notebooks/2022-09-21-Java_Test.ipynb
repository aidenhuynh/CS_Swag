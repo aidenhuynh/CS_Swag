{
 "cells": [
  {
   "cell_type": "markdown",
   "metadata": {},
   "source": [
    "# \"Week 5 - Java Testing\"\n",
    "> \"Testing out Java with Jupyter\"\n",
    "\n",
    "- toc: true\n",
    "- branch: master\n",
    "- badges: true\n",
    "- comments: true\n",
    "- categories: [jupyter,markdown]\n"
   ]
  },
  {
   "cell_type": "markdown",
   "metadata": {},
   "source": [
    "{% include submenu.html %}\n",
    "\n",
    "### console.log output"
   ]
  },
  {
   "cell_type": "code",
   "execution_count": 4,
   "metadata": {},
   "outputs": [
    {
     "name": "stdout",
     "output_type": "stream",
     "text": [
      "cool coding\n"
     ]
    }
   ],
   "source": [
    "var bruh = \"cool coding\";\n",
    "console.log(bruh);"
   ]
  },
  {
   "cell_type": "markdown",
   "metadata": {},
   "source": [
    "### console.log as a Function"
   ]
  },
  {
   "cell_type": "code",
   "execution_count": 25,
   "metadata": {},
   "outputs": [
    {
     "name": "stdout",
     "output_type": "stream",
     "text": [
      "cool coding\n",
      " \n",
      "Can also be numbers:\n",
      "100\n"
     ]
    }
   ],
   "source": [
    "function print(output) {\n",
    "    console.log(output)\n",
    "}\n",
    "print(bruh)\n",
    "print(\" \")\n",
    "print(\"Can also be numbers:\")\n",
    "print(100)"
   ]
  },
  {
   "cell_type": "markdown",
   "metadata": {},
   "source": [
    "### Getting Input Types"
   ]
  },
  {
   "cell_type": "code",
   "execution_count": 30,
   "metadata": {},
   "outputs": [
    {
     "name": "stdout",
     "output_type": "stream",
     "text": [
      "You don't have to specify what type of value inputs are (string or int)\n",
      "This is a string: Text\n",
      "This is a string: cool coding\n",
      "This is a number: 100\n",
      "This is a object: [ 1, 2, 3 ]\n"
     ]
    }
   ],
   "source": [
    "function printType(output) {\n",
    "    console.log(\"This is a\", typeof output+\":\", output);\n",
    "}\n",
    "print(\"You don't have to specify what type of value inputs are (string or int)\")\n",
    "printType(\"Text\");\n",
    "printType(bruh); // bruh = a string, therefore...\n",
    "printType(100);\n",
    "printType([1,2,3]); // object is generic for arrays (array = list)"
   ]
  },
  {
   "cell_type": "markdown",
   "metadata": {},
   "source": [
    "### Coin Flipper"
   ]
  },
  {
   "cell_type": "code",
   "execution_count": 6,
   "metadata": {},
   "outputs": [
    {
     "name": "stdout",
     "output_type": "stream",
     "text": [
      "It's Heads!\n",
      "It's Tails!\n",
      "It's Tails!\n",
      "It's Tails!\n",
      "It's Heads!\n",
      "It's Heads!\n",
      "It's Tails!\n",
      "It's Tails!\n",
      "It's Heads!\n",
      "It's Tails!\n"
     ]
    }
   ],
   "source": [
    "function coinFlip() {\n",
    "    var flip = Math.random()\n",
    "        if(flip < \"0.5\") {\n",
    "            console.log(\"It's Heads!\")\n",
    "        } else if(flip > \"0.5\") {\n",
    "            console.log(\"It's Tails!\")\n",
    "        }\n",
    "        else {\n",
    "            console.log(\"It landed on it's side!\")\n",
    "            // This is a 0.00000000000001% chance\n",
    "        }\n",
    "}\n",
    "\n",
    "var coinCount = 10\n",
    "while (coinCount>0) {\n",
    "    coinCount=(coinCount-1);\n",
    "    coinFlip();\n",
    "}\n"
   ]
  },
  {
   "cell_type": "markdown",
   "metadata": {},
   "source": [
    "### Table with Java"
   ]
  },
  {
   "cell_type": "code",
   "execution_count": 82,
   "metadata": {},
   "outputs": [
    {
     "data": {
      "text/html": [
       "<head><style>table, th, td, tr {border: 1px solid #000000;text-align: left;padding: 8px;}</style></head><table><tr><th><b>Name</b></th><th><b>Role</b></th></tr><tr><td>Aiden</td><td>Scrum Master</td></tr><tr><td>Dash</td><td>Backend Developer</td></tr><tr><td>Sabine</td><td>Frontend Developer</td></tr><tr><td>Aiden</td><td>Backend Developer</td></tr></table>"
      ]
     },
     "execution_count": 82,
     "metadata": {},
     "output_type": "execute_result"
    }
   ],
   "source": [
    "function htmlsource() {\n",
    "    // i could not figure out arrays\n",
    "    return (\n",
    "        \"<head>\" +\n",
    "        \"<style>\" + \n",
    "        \"table, th, td, tr {\" +\n",
    "        \"border: 1px solid #000000;\" +\n",
    "        \"text-align: left;\" +\n",
    "        \"padding: 8px;\" + \n",
    "        \"}\" +\n",
    "        \"</style>\" +\n",
    "        \"</head>\" +\n",
    "        \"<table>\" +\n",
    "        \"<tr>\" +\n",
    "        \"<th><b>\" + \"Name\" + \"</b></th>\" +\n",
    "        \"<th><b>\" + \"Role\" + \"</b></th>\" +\n",
    "        \"</tr>\" +\n",
    "        \"<tr>\" +\n",
    "        \"<td>\" + \"Aiden\" + \"</td>\" +\n",
    "        \"<td>\" + \"Scrum Master\" + \"</td>\" +\n",
    "        \"</tr>\" +\n",
    "        \"<tr>\" +\n",
    "        \"<td>\" + \"Dash\" + \"</td>\" +\n",
    "        \"<td>\" + \"Backend Developer\" + \"</td>\" +\n",
    "        \"</tr>\" +\n",
    "        \"<tr>\" +\n",
    "        \"<td>\" + \"Sabine\" + \"</td>\" +\n",
    "        \"<td>\" + \"Frontend Developer\" + \"</td>\" +\n",
    "        \"</tr>\" +\n",
    "        \"<tr>\" +\n",
    "        \"<td>\" + \"Aiden\" + \"</td>\" +\n",
    "        \"<td>\" + \"Backend Developer\" + \"</td>\" +\n",
    "        \"</tr>\" +\n",
    "        \"</table>\"\n",
    "    )\n",
    "    }\n",
    "    $$.html(htmlsource());"
   ]
  }
 ],
 "metadata": {
  "kernelspec": {
   "display_name": "JavaScript (Node.js)",
   "language": "javascript",
   "name": "javascript"
  },
  "language_info": {
   "file_extension": ".js",
   "mimetype": "application/javascript",
   "name": "javascript",
   "version": "10.13.0"
  },
  "orig_nbformat": 4,
  "vscode": {
   "interpreter": {
    "hash": "ffc1763adbe1425c55f4d4f6bbc7c5400773fec8c10f143e4ec62144ce703445"
   }
  }
 },
 "nbformat": 4,
 "nbformat_minor": 2
}
